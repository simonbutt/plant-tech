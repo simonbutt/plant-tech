{
 "cells": [
  {
   "cell_type": "markdown",
   "id": "9ca43e61-d691-485f-8c8f-8a34ea9fef41",
   "metadata": {},
   "source": [
    "# 01 Baseline Model"
   ]
  },
  {
   "cell_type": "code",
   "execution_count": 5,
   "id": "c68b13a2-f1b7-4755-9a64-a94211adc86e",
   "metadata": {},
   "outputs": [],
   "source": [
    "import tensorflow as tf\n",
    "import tensorflow_hub as hub\n",
    "from tensorflow import keras\n",
    "import pandas as pd\n",
    "import numpy as np\n",
    "from google.cloud import storage\n",
    "import PIL\n",
    "from matplotlib import pyplot as plt\n",
    "from io import BytesIO\n",
    "import tempfile\n",
    "import os"
   ]
  },
  {
   "cell_type": "code",
   "execution_count": 6,
   "id": "fa5655c1-e726-40cc-ab4f-04056b510b8e",
   "metadata": {},
   "outputs": [
    {
     "name": "stderr",
     "output_type": "stream",
     "text": [
      "2022-09-06 22:52:44.222832: E tensorflow/stream_executor/cuda/cuda_driver.cc:271] failed call to cuInit: CUDA_ERROR_NO_DEVICE: no CUDA-capable device is detected\n"
     ]
    },
    {
     "data": {
      "text/plain": [
       "[]"
      ]
     },
     "execution_count": 6,
     "metadata": {},
     "output_type": "execute_result"
    },
    {
     "name": "stderr",
     "output_type": "stream",
     "text": [
      "2022-09-06 22:52:44.222859: I tensorflow/stream_executor/cuda/cuda_diagnostics.cc:156] kernel driver does not appear to be running on this host (simon-XPS-15-9575): /proc/driver/nvidia/version does not exist\n"
     ]
    }
   ],
   "source": [
    "tf.config.list_physical_devices('GPU')"
   ]
  },
  {
   "cell_type": "code",
   "execution_count": 7,
   "id": "a28f3078-6b29-4e77-a755-a943a21135d2",
   "metadata": {
    "tags": [
     "parameters"
    ]
   },
   "outputs": [],
   "source": [
    "query: str = \"SELECT file_name, is_dirty FROM `plant-tech-dev.plant_tech_raw_metadata.base_labels` as t WHERE t.is_dirty_viable=1\"\n",
    "bucket_name: str = \"plant-tech-raw\""
   ]
  },
  {
   "cell_type": "code",
   "execution_count": 8,
   "id": "3617ed34-a793-4650-80b5-321cc23f1897",
   "metadata": {},
   "outputs": [
    {
     "name": "stdout",
     "output_type": "stream",
     "text": [
      "/tmp/tmpwqtxpzig\n"
     ]
    }
   ],
   "source": [
    "temp_dir = tempfile.TemporaryDirectory()\n",
    "print(temp_dir.name)"
   ]
  },
  {
   "cell_type": "markdown",
   "id": "2e3c7ecf-5abb-427d-aa41-4f853b26e9cb",
   "metadata": {},
   "source": [
    "## Lookup table"
   ]
  },
  {
   "cell_type": "code",
   "execution_count": 11,
   "id": "a6667ce5-cd0d-47e0-b546-a33b3dd86123",
   "metadata": {},
   "outputs": [
    {
     "name": "stdout",
     "output_type": "stream",
     "text": [
      "Data Size: 172\n"
     ]
    },
    {
     "data": {
      "text/html": [
       "<div>\n",
       "<style scoped>\n",
       "    .dataframe tbody tr th:only-of-type {\n",
       "        vertical-align: middle;\n",
       "    }\n",
       "\n",
       "    .dataframe tbody tr th {\n",
       "        vertical-align: top;\n",
       "    }\n",
       "\n",
       "    .dataframe thead th {\n",
       "        text-align: right;\n",
       "    }\n",
       "</style>\n",
       "<table border=\"1\" class=\"dataframe\">\n",
       "  <thead>\n",
       "    <tr style=\"text-align: right;\">\n",
       "      <th></th>\n",
       "      <th>file_name</th>\n",
       "      <th>is_dirty</th>\n",
       "    </tr>\n",
       "  </thead>\n",
       "  <tbody>\n",
       "    <tr>\n",
       "      <th>0</th>\n",
       "      <td>hist_load/20220821_140712.jpg</td>\n",
       "      <td>1</td>\n",
       "    </tr>\n",
       "    <tr>\n",
       "      <th>1</th>\n",
       "      <td>hist_load/20220821_140733.jpg</td>\n",
       "      <td>1</td>\n",
       "    </tr>\n",
       "    <tr>\n",
       "      <th>2</th>\n",
       "      <td>hist_load/20220821_140741.jpg</td>\n",
       "      <td>1</td>\n",
       "    </tr>\n",
       "    <tr>\n",
       "      <th>3</th>\n",
       "      <td>hist_load/20220821_140800.jpg</td>\n",
       "      <td>1</td>\n",
       "    </tr>\n",
       "    <tr>\n",
       "      <th>4</th>\n",
       "      <td>hist_load/20220821_140956.jpg</td>\n",
       "      <td>1</td>\n",
       "    </tr>\n",
       "  </tbody>\n",
       "</table>\n",
       "</div>"
      ],
      "text/plain": [
       "                       file_name  is_dirty\n",
       "0  hist_load/20220821_140712.jpg         1\n",
       "1  hist_load/20220821_140733.jpg         1\n",
       "2  hist_load/20220821_140741.jpg         1\n",
       "3  hist_load/20220821_140800.jpg         1\n",
       "4  hist_load/20220821_140956.jpg         1"
      ]
     },
     "execution_count": 11,
     "metadata": {},
     "output_type": "execute_result"
    }
   ],
   "source": [
    "df_lookup = pd.read_gbq(\n",
    "    query,\n",
    "    project_id=\"plant-tech-dev\"\n",
    ")\n",
    "print(f\"Data Size: {len(df_lookup)}\")\n",
    "df_lookup.iloc[:5]\n"
   ]
  },
  {
   "cell_type": "code",
   "execution_count": 21,
   "id": "ffd59231-03ae-42f9-b432-bd04e2f50da0",
   "metadata": {},
   "outputs": [
    {
     "name": "stderr",
     "output_type": "stream",
     "text": [
      "/tmp/ipykernel_91722/1940744739.py:1: UserWarning: DataFrame columns are not unique, some columns will be omitted.\n",
      "  df_lookup.set_index(\"file_name\").T.to_dict()\n"
     ]
    },
    {
     "data": {
      "text/plain": [
       "{'hist_load/20220821_140712.jpg': {'is_dirty': 1},\n",
       " 'hist_load/20220821_140733.jpg': {'is_dirty': 1},\n",
       " 'hist_load/20220821_140741.jpg': {'is_dirty': 1},\n",
       " 'hist_load/20220821_140800.jpg': {'is_dirty': 1},\n",
       " 'hist_load/20220821_140956.jpg': {'is_dirty': 1},\n",
       " 'hist_load/20220821_141008.jpg': {'is_dirty': 1},\n",
       " 'hist_load/20220821_141020.jpg': {'is_dirty': 1},\n",
       " 'hist_load/20220821_102529.jpg': {'is_dirty': 1},\n",
       " 'hist_load/20220821_102534.jpg': {'is_dirty': 1},\n",
       " 'hist_load/20220821_102543.jpg': {'is_dirty': 1},\n",
       " 'hist_load/20220821_102545.jpg': {'is_dirty': 1},\n",
       " 'hist_load/20220821_102552.jpg': {'is_dirty': 1},\n",
       " 'hist_load/20220821_135926.jpg': {'is_dirty': 1},\n",
       " 'hist_load/20220821_135928.jpg': {'is_dirty': 1},\n",
       " 'hist_load/20220821_135930.jpg': {'is_dirty': 1},\n",
       " 'hist_load/20220821_135938.jpg': {'is_dirty': 1},\n",
       " 'hist_load/20220821_135940.jpg': {'is_dirty': 1},\n",
       " 'hist_load/20220821_150608.jpg': {'is_dirty': 1},\n",
       " 'hist_load/20220821_150703.jpg': {'is_dirty': 1},\n",
       " 'hist_load/20220821_150725.jpg': {'is_dirty': 1},\n",
       " 'hist_load/20220821_150825.jpg': {'is_dirty': 1},\n",
       " 'hist_load/20220821_150830.jpg': {'is_dirty': 1},\n",
       " 'hist_load/20220821_150844.jpg': {'is_dirty': 1},\n",
       " 'hist_load/20220821_150852.jpg': {'is_dirty': 1},\n",
       " 'hist_load/20220821_102337.jpg': {'is_dirty': 0},\n",
       " 'hist_load/20220821_102338.jpg': {'is_dirty': 0},\n",
       " 'hist_load/20220821_102340.jpg': {'is_dirty': 0},\n",
       " 'hist_load/20220821_102400.jpg': {'is_dirty': 0},\n",
       " 'hist_load/20220821_102402.jpg': {'is_dirty': 0},\n",
       " 'hist_load/20220821_102457.jpg': {'is_dirty': 0},\n",
       " 'hist_load/20220821_102504.jpg': {'is_dirty': 0},\n",
       " 'hist_load/20220821_102506.jpg': {'is_dirty': 0},\n",
       " 'hist_load/20220821_102518.jpg': {'is_dirty': 0},\n",
       " 'hist_load/20220821_102256.jpg': {'is_dirty': 1},\n",
       " 'hist_load/20220821_102259.jpg': {'is_dirty': 1},\n",
       " 'hist_load/20220821_102320.jpg': {'is_dirty': 1},\n",
       " 'hist_load/20220821_102325.jpg': {'is_dirty': 1},\n",
       " 'hist_load/20220821_102453.jpg': {'is_dirty': 1},\n",
       " 'hist_load/20220821_140617.jpg': {'is_dirty': 0},\n",
       " 'hist_load/20220821_140619.jpg': {'is_dirty': 0},\n",
       " 'hist_load/20220821_140621.jpg': {'is_dirty': 0},\n",
       " 'hist_load/20220821_140623.jpg': {'is_dirty': 0},\n",
       " 'hist_load/20220821_140638.jpg': {'is_dirty': 0},\n",
       " 'hist_load/20220821_140640.jpg': {'is_dirty': 0},\n",
       " 'hist_load/20220821_140642.jpg': {'is_dirty': 0},\n",
       " 'hist_load/20220821_140653.jpg': {'is_dirty': 0},\n",
       " 'hist_load/20220821_140827.jpg': {'is_dirty': 0},\n",
       " 'hist_load/20220821_140829.jpg': {'is_dirty': 0},\n",
       " 'hist_load/20220821_140849.jpg': {'is_dirty': 0},\n",
       " 'hist_load/20220821_140853.jpg': {'is_dirty': 0},\n",
       " 'hist_load/20220821_140905.jpg': {'is_dirty': 0},\n",
       " 'hist_load/20220821_140907.jpg': {'is_dirty': 0},\n",
       " 'hist_load/20220821_140916.jpg': {'is_dirty': 0},\n",
       " 'hist_load/20220821_140918.jpg': {'is_dirty': 0},\n",
       " 'hist_load/20220821_140919.jpg': {'is_dirty': 0},\n",
       " 'hist_load/20220821_140928.jpg': {'is_dirty': 0},\n",
       " 'hist_load/20220821_140930.jpg': {'is_dirty': 0},\n",
       " 'hist_load/20220821_140931.jpg': {'is_dirty': 0},\n",
       " 'hist_load/20220821_140940.jpg': {'is_dirty': 0},\n",
       " 'hist_load/20220821_140942.jpg': {'is_dirty': 0},\n",
       " 'hist_load/20220821_140033.jpg': {'is_dirty': 0},\n",
       " 'hist_load/20220821_141006.jpg': {'is_dirty': 1},\n",
       " 'hist_load/20220821_141012.jpg': {'is_dirty': 1},\n",
       " 'hist_load/20220821_141021.jpg': {'is_dirty': 1},\n",
       " 'hist_load/20220821_141028.jpg': {'is_dirty': 1},\n",
       " 'hist_load/20220821_141030.jpg': {'is_dirty': 1},\n",
       " 'hist_load/20220821_141031.jpg': {'is_dirty': 1},\n",
       " 'hist_load/20220821_141043.jpg': {'is_dirty': 1},\n",
       " 'hist_load/20220821_141044.jpg': {'is_dirty': 1},\n",
       " 'hist_load/20220821_141051.jpg': {'is_dirty': 1},\n",
       " 'hist_load/20220821_141052.jpg': {'is_dirty': 1},\n",
       " 'hist_load/20220821_141057.jpg': {'is_dirty': 1},\n",
       " 'hist_load/20220821_141109.jpg': {'is_dirty': 1},\n",
       " 'hist_load/20220821_141110.jpg': {'is_dirty': 1},\n",
       " 'hist_load/20220821_141118.jpg': {'is_dirty': 1},\n",
       " 'hist_load/20220821_141120.jpg': {'is_dirty': 1},\n",
       " 'hist_load/20220821_141130.jpg': {'is_dirty': 1},\n",
       " 'hist_load/20220821_141131.jpg': {'is_dirty': 1},\n",
       " 'hist_load/20220821_141136.jpg': {'is_dirty': 1},\n",
       " 'hist_load/20220821_141139.jpg': {'is_dirty': 1},\n",
       " 'hist_load/20220821_145611.jpg': {'is_dirty': 1},\n",
       " 'hist_load/20220821_145623.jpg': {'is_dirty': 1},\n",
       " 'hist_load/20220821_145625.jpg': {'is_dirty': 1},\n",
       " 'hist_load/20220821_145627.jpg': {'is_dirty': 1},\n",
       " 'hist_load/20220821_145804.jpg': {'is_dirty': 1},\n",
       " 'hist_load/20220821_145806.jpg': {'is_dirty': 1},\n",
       " 'hist_load/20220821_145827.jpg': {'is_dirty': 1},\n",
       " 'hist_load/20220821_145829.jpg': {'is_dirty': 1},\n",
       " 'hist_load/20220821_145831.jpg': {'is_dirty': 1},\n",
       " 'hist_load/20220821_145844.jpg': {'is_dirty': 1},\n",
       " 'hist_load/20220821_145846.jpg': {'is_dirty': 1},\n",
       " 'hist_load/20220821_145850.jpg': {'is_dirty': 1},\n",
       " 'hist_load/20220821_145852.jpg': {'is_dirty': 1},\n",
       " 'hist_load/20220821_145855.jpg': {'is_dirty': 1},\n",
       " 'hist_load/20220821_145858.jpg': {'is_dirty': 1},\n",
       " 'hist_load/20220821_145934.jpg': {'is_dirty': 1},\n",
       " 'hist_load/20220821_145935.jpg': {'is_dirty': 1},\n",
       " 'hist_load/20220821_150138.jpg': {'is_dirty': 0},\n",
       " 'hist_load/20220821_150252.jpg': {'is_dirty': 0},\n",
       " 'hist_load/20220821_150256.jpg': {'is_dirty': 0},\n",
       " 'hist_load/20220821_150259.jpg': {'is_dirty': 0},\n",
       " 'hist_load/20220821_150304.jpg': {'is_dirty': 0},\n",
       " 'hist_load/20220821_150308.jpg': {'is_dirty': 0},\n",
       " 'hist_load/20220821_150310.jpg': {'is_dirty': 0},\n",
       " 'hist_load/20220821_150340.jpg': {'is_dirty': 0},\n",
       " 'hist_load/20220821_150342.jpg': {'is_dirty': 0},\n",
       " 'hist_load/20220821_150344.jpg': {'is_dirty': 0},\n",
       " 'hist_load/20220821_150346.jpg': {'is_dirty': 0},\n",
       " 'hist_load/20220821_150347.jpg': {'is_dirty': 0},\n",
       " 'hist_load/20220821_150643.jpg': {'is_dirty': 0},\n",
       " 'hist_load/20220821_150645.jpg': {'is_dirty': 0},\n",
       " 'hist_load/20220821_150647.jpg': {'is_dirty': 0},\n",
       " 'hist_load/20220821_150616.jpg': {'is_dirty': 1},\n",
       " 'hist_load/20220821_150624.jpg': {'is_dirty': 1},\n",
       " 'hist_load/20220821_150633.jpg': {'is_dirty': 1},\n",
       " 'hist_load/20220821_150707.jpg': {'is_dirty': 1},\n",
       " 'hist_load/20220821_150710.jpg': {'is_dirty': 1},\n",
       " 'hist_load/20220821_150713.jpg': {'is_dirty': 1},\n",
       " 'hist_load/20220821_150753.jpg': {'is_dirty': 1},\n",
       " 'hist_load/20220821_150832.jpg': {'is_dirty': 1},\n",
       " 'hist_load/20220821_150841.jpg': {'is_dirty': 1},\n",
       " 'hist_load/20220821_140022.jpg': {'is_dirty': 0},\n",
       " 'hist_load/20220821_140029.jpg': {'is_dirty': 0},\n",
       " 'hist_load/20220821_140846.jpg': {'is_dirty': 0},\n",
       " 'hist_load/20220821_141151.jpg': {'is_dirty': 0},\n",
       " 'hist_load/20220821_102417.jpg': {'is_dirty': 0},\n",
       " 'hist_load/20220821_102418.jpg': {'is_dirty': 0},\n",
       " 'hist_load/20220821_140757.jpg': {'is_dirty': 1},\n",
       " 'hist_load/20220821_141011.jpg': {'is_dirty': 1},\n",
       " 'hist_load/20220821_141035.jpg': {'is_dirty': 1},\n",
       " 'hist_load/20220821_135954.jpg': {'is_dirty': 1},\n",
       " 'hist_load/20220821_135958.jpg': {'is_dirty': 1},\n",
       " 'hist_load/20220821_140001.jpg': {'is_dirty': 1},\n",
       " 'hist_load/20220821_102229.jpg': {'is_dirty': 1},\n",
       " 'hist_load/20220821_102234.jpg': {'is_dirty': 1},\n",
       " 'hist_load/20220821_102237.jpg': {'is_dirty': 1},\n",
       " 'hist_load/20220821_102406.jpg': {'is_dirty': 1},\n",
       " 'hist_load/20220821_102409.jpg': {'is_dirty': 1},\n",
       " 'hist_load/20220821_102420.jpg': {'is_dirty': 1},\n",
       " 'hist_load/20220821_102430.jpg': {'is_dirty': 1},\n",
       " 'hist_load/20220821_145834.jpg': {'is_dirty': 1},\n",
       " 'hist_load/20220821_145836.jpg': {'is_dirty': 1},\n",
       " 'hist_load/20220821_145838.jpg': {'is_dirty': 1},\n",
       " 'hist_load/20220821_145839.jpg': {'is_dirty': 1},\n",
       " 'hist_load/20220821_150122.jpg': {'is_dirty': 0},\n",
       " 'hist_load/20220821_150333.jpg': {'is_dirty': 0},\n",
       " 'hist_load/20220821_150337.jpg': {'is_dirty': 0},\n",
       " 'hist_load/20220821_150635.jpg': {'is_dirty': 0},\n",
       " 'hist_load/20220821_150641.jpg': {'is_dirty': 0},\n",
       " 'hist_load/20220821_150355.jpg': {'is_dirty': 1},\n",
       " 'hist_load/20220821_150401.jpg': {'is_dirty': 1},\n",
       " 'hist_load/20220821_150654.jpg': {'is_dirty': 1},\n",
       " 'hist_load/20220821_150658.jpg': {'is_dirty': 1},\n",
       " 'hist_load/20220821_150701.jpg': {'is_dirty': 1},\n",
       " 'hist_load/20220821_150735.jpg': {'is_dirty': 1},\n",
       " 'hist_load/20220821_150743.jpg': {'is_dirty': 1}}"
      ]
     },
     "execution_count": 21,
     "metadata": {},
     "output_type": "execute_result"
    }
   ],
   "source": [
    "df_lookup.set_index(\"file_name\").T.to_dict()"
   ]
  },
  {
   "cell_type": "code",
   "execution_count": null,
   "id": "8ccfbcef-601a-4a1c-a30e-8c15578bd087",
   "metadata": {},
   "outputs": [],
   "source": []
  },
  {
   "cell_type": "markdown",
   "id": "024d1595-b9a8-47c8-b280-cb497ac4feca",
   "metadata": {},
   "source": [
    "## Pull Data  \n",
    "Pull image data from bucket and dump to temporary directory with folder structure:  \n",
    "```\n",
    "{tmp_dir}/  \n",
    "  dirty/\n",
    "  clean/\n",
    "```       "
   ]
  },
  {
   "cell_type": "code",
   "execution_count": 6,
   "id": "453b196d-fa01-4dce-9745-0572a9c0f582",
   "metadata": {},
   "outputs": [],
   "source": [
    "client = storage.Client()\n",
    "bucket = client.get_bucket(bucket_name)"
   ]
  },
  {
   "cell_type": "code",
   "execution_count": 7,
   "id": "6348ce73-b3aa-490b-93e1-cbe405f360c1",
   "metadata": {},
   "outputs": [
    {
     "name": "stdout",
     "output_type": "stream",
     "text": [
      "CPU times: user 4 µs, sys: 2 µs, total: 6 µs\n",
      "Wall time: 9.54 µs\n"
     ]
    }
   ],
   "source": [
    "%time\n",
    "\n",
    "img_bytes = bucket.get_blob(df_lookup.file_name.iloc[0]).download_as_bytes()"
   ]
  },
  {
   "cell_type": "code",
   "execution_count": 8,
   "id": "438ea452-4e2c-4a7d-96ed-d938d961a712",
   "metadata": {},
   "outputs": [],
   "source": [
    "img = PIL.Image.open(BytesIO(img_bytes))"
   ]
  },
  {
   "cell_type": "code",
   "execution_count": 9,
   "id": "59917aef-7017-41bf-9dfb-9471aad537e8",
   "metadata": {},
   "outputs": [],
   "source": [
    "# np.asarray(img_array).shape"
   ]
  },
  {
   "cell_type": "code",
   "execution_count": 10,
   "id": "e31ae0c2-c8c5-4515-a64e-16eaddab05a7",
   "metadata": {},
   "outputs": [],
   "source": [
    "label_map = {\n",
    "    1: \"dirty\",\n",
    "    0: \"clean\"\n",
    "}"
   ]
  },
  {
   "cell_type": "code",
   "execution_count": 11,
   "id": "7a917955-16c7-4110-a70a-1a3cc3f3dacd",
   "metadata": {},
   "outputs": [
    {
     "name": "stdout",
     "output_type": "stream",
     "text": [
      "/tmp/tmpx7fwfqz7/dirty\n",
      "/tmp/tmpx7fwfqz7/clean\n"
     ]
    }
   ],
   "source": [
    "for k,v in label_map.items():\n",
    "    os.mkdir(dir := f\"{temp_dir.name}/{v}\")\n",
    "    print(dir)"
   ]
  },
  {
   "cell_type": "code",
   "execution_count": 12,
   "id": "668cfec2-a5a8-4cad-ad0c-169bdb50cce4",
   "metadata": {},
   "outputs": [],
   "source": [
    "def download_and_save(gcs_path, label, local_dir):\n",
    "    file_name = gcs_path.split(\"/\")[-1]\n",
    "    img_bytes = bucket.get_blob(gcs_path).download_as_bytes()\n",
    "    \n",
    "    with open(f\"{local_dir}/{label}/{file_name}\", \"wb\") as img_file:\n",
    "        img_file.write(img_bytes)"
   ]
  },
  {
   "cell_type": "code",
   "execution_count": 14,
   "id": "5ce5b170-6219-4975-887a-8df7b87a6d29",
   "metadata": {},
   "outputs": [],
   "source": [
    "for index, row in df_lookup.iterrows():\n",
    "    download_and_save(\n",
    "        gcs_path=row[0],\n",
    "        label=label_map[row[1]],\n",
    "        local_dir=temp_dir.name\n",
    "    )"
   ]
  },
  {
   "cell_type": "code",
   "execution_count": 38,
   "id": "c5fc1f66-22e7-42bf-b329-f06bdaa704c2",
   "metadata": {},
   "outputs": [
    {
     "name": "stdout",
     "output_type": "stream",
     "text": [
      "Found 156 files belonging to 2 classes.\n",
      "Using 110 files for training.\n",
      "Found 156 files belonging to 2 classes.\n",
      "Using 46 files for validation.\n"
     ]
    }
   ],
   "source": [
    "seed = 42\n",
    "\n",
    "train_dataset = keras.utils.image_dataset_from_directory(\n",
    "    directory=temp_dir.name,\n",
    "    batch_size=32,\n",
    "    image_size=(256, 256),\n",
    "    validation_split=0.3,\n",
    "    subset=\"training\",\n",
    "    seed=seed\n",
    ")\n",
    "\n",
    "val_dataset = keras.utils.image_dataset_from_directory(\n",
    "    directory=temp_dir.name,\n",
    "    batch_size=32,\n",
    "    image_size=(256, 256),\n",
    "    validation_split=0.3,\n",
    "    subset=\"validation\",\n",
    "    seed=seed\n",
    ")"
   ]
  },
  {
   "cell_type": "markdown",
   "id": "21ddda2f-7b9b-4024-a35d-304a0553db74",
   "metadata": {},
   "source": [
    "## Baseline Model"
   ]
  },
  {
   "cell_type": "code",
   "execution_count": 16,
   "id": "63a0cc9c-3bed-47a0-9e3b-deab5d419a1a",
   "metadata": {},
   "outputs": [
    {
     "data": {
      "text/plain": [
       "<BatchDataset element_spec=(TensorSpec(shape=(None, 256, 256, 3), dtype=tf.float32, name=None), TensorSpec(shape=(None,), dtype=tf.int32, name=None))>"
      ]
     },
     "execution_count": 16,
     "metadata": {},
     "output_type": "execute_result"
    }
   ],
   "source": [
    "dataset"
   ]
  },
  {
   "cell_type": "code",
   "execution_count": 17,
   "id": "fb2da235-a0df-4279-8be1-4db1ea3935a9",
   "metadata": {},
   "outputs": [],
   "source": [
    "# Using efficientnet TFHub example\n",
    "model_name = \"efficientnetv2-b2-21k\"\n",
    "model_url = \"https://tfhub.dev/google/imagenet/efficientnet_v2_imagenet21k_b2/feature_vector/2\"\n"
   ]
  },
  {
   "cell_type": "code",
   "execution_count": 45,
   "id": "de963706-67e0-4fc9-bd7c-1bef713a75c2",
   "metadata": {},
   "outputs": [
    {
     "name": "stdout",
     "output_type": "stream",
     "text": [
      "Model: \"sequential_3\"\n",
      "_________________________________________________________________\n",
      " Layer (type)                Output Shape              Param #   \n",
      "=================================================================\n",
      " keras_layer_4 (KerasLayer)  (None, 1408)              8769374   \n",
      "                                                                 \n",
      " dropout_4 (Dropout)         (None, 1408)              0         \n",
      "                                                                 \n",
      " dense_4 (Dense)             (None, 1)                 1409      \n",
      "                                                                 \n",
      "=================================================================\n",
      "Total params: 8,770,783\n",
      "Trainable params: 1,409\n",
      "Non-trainable params: 8,769,374\n",
      "_________________________________________________________________\n"
     ]
    }
   ],
   "source": [
    "input_pixels = (256, 256)\n",
    "is_trainable = False\n",
    "\n",
    "model = keras.Sequential([\n",
    "    tf.keras.layers.InputLayer(input_shape=input_pixels + (3, )),\n",
    "    hub.KerasLayer(model_url, trainable=is_trainable),\n",
    "    tf.keras.layers.Dropout(rate=0.2),\n",
    "    tf.keras.layers.Dense(\n",
    "        1,\n",
    "        kernel_regularizer=tf.keras.regularizers.l2(0.0001))\n",
    "])\n",
    "\n",
    "model.build((None, ) + input_pixels + (3, ))\n",
    "model.summary()"
   ]
  },
  {
   "cell_type": "code",
   "execution_count": 46,
   "id": "c20485fb-cc85-4c2d-abd2-f360e4088cfb",
   "metadata": {},
   "outputs": [],
   "source": [
    "model.compile(\n",
    "  optimizer=tf.keras.optimizers.SGD(learning_rate=0.005, momentum=0.9), \n",
    "  loss=tf.keras.losses.BinaryCrossentropy(from_logits=True),\n",
    "  metrics=['accuracy']\n",
    ")"
   ]
  },
  {
   "cell_type": "code",
   "execution_count": 47,
   "id": "29a8d6a7-2a10-4a2f-bf52-cb4da1c0d3b0",
   "metadata": {},
   "outputs": [
    {
     "name": "stdout",
     "output_type": "stream",
     "text": [
      "Epoch 1/100\n",
      "4/4 [==============================] - 13s 2s/step - loss: 102512940845891584.0000 - accuracy: 0.3727 - val_loss: 70233684636073984.0000 - val_accuracy: 0.6304\n",
      "Epoch 2/100\n",
      "4/4 [==============================] - 6s 1s/step - loss: 180467894348414976.0000 - accuracy: 0.5909 - val_loss: 171344353019559936.0000 - val_accuracy: 0.4565\n",
      "Epoch 3/100\n",
      "4/4 [==============================] - 6s 1s/step - loss: 174215418397851648.0000 - accuracy: 0.5636 - val_loss: 57654021778833408.0000 - val_accuracy: 0.6304\n",
      "Epoch 4/100\n",
      "4/4 [==============================] - 6s 1s/step - loss: 70715725995573248.0000 - accuracy: 0.6182 - val_loss: 15818601848111104.0000 - val_accuracy: 0.6957\n",
      "Epoch 5/100\n",
      "4/4 [==============================] - 6s 1s/step - loss: 98554260899233792.0000 - accuracy: 0.5364 - val_loss: 39447328993574912.0000 - val_accuracy: 0.5000\n",
      "Epoch 6/100\n",
      "4/4 [==============================] - 7s 1s/step - loss: 105009356226953216.0000 - accuracy: 0.6182 - val_loss: 48030941393715200.0000 - val_accuracy: 0.5435\n",
      "Epoch 7/100\n",
      "4/4 [==============================] - 6s 1s/step - loss: 56554299697659904.0000 - accuracy: 0.6727 - val_loss: 31195992443322368.0000 - val_accuracy: 0.5870\n",
      "Epoch 8/100\n",
      "4/4 [==============================] - 7s 1s/step - loss: 60425718793764864.0000 - accuracy: 0.6091 - val_loss: 50734408558182400.0000 - val_accuracy: 0.5435\n",
      "Epoch 9/100\n",
      "4/4 [==============================] - 7s 1s/step - loss: 65064876178931712.0000 - accuracy: 0.5636 - val_loss: 48511891831521280.0000 - val_accuracy: 0.6739\n",
      "Epoch 10/100\n",
      "4/4 [==============================] - 6s 1s/step - loss: 144079196249915392.0000 - accuracy: 0.6727 - val_loss: 113324077904560128.0000 - val_accuracy: 0.4783\n",
      "Epoch 11/100\n",
      "4/4 [==============================] - 6s 1s/step - loss: 77266556144320512.0000 - accuracy: 0.6091 - val_loss: 58461479925448704.0000 - val_accuracy: 0.6304\n",
      "Epoch 12/100\n",
      "4/4 [==============================] - 7s 1s/step - loss: 54123880784068608.0000 - accuracy: 0.6909 - val_loss: 92955625000009728.0000 - val_accuracy: 0.4783\n",
      "Epoch 13/100\n",
      "4/4 [==============================] - 6s 1s/step - loss: 109286319020048384.0000 - accuracy: 0.6545 - val_loss: 37240798135189504.0000 - val_accuracy: 0.5435\n",
      "Epoch 14/100\n",
      "4/4 [==============================] - 6s 1s/step - loss: 117965975478861824.0000 - accuracy: 0.5000 - val_loss: 30414727154761728.0000 - val_accuracy: 0.6522\n",
      "Epoch 15/100\n",
      "4/4 [==============================] - 6s 1s/step - loss: 93209766804848640.0000 - accuracy: 0.7000 - val_loss: 180317020737241088.0000 - val_accuracy: 0.5000\n",
      "Epoch 16/100\n",
      "4/4 [==============================] - 6s 1s/step - loss: 128630276195614720.0000 - accuracy: 0.6182 - val_loss: 90510766406369280.0000 - val_accuracy: 0.6304\n",
      "Epoch 17/100\n",
      "4/4 [==============================] - 6s 1s/step - loss: 122017083121729536.0000 - accuracy: 0.6909 - val_loss: 148102034418040832.0000 - val_accuracy: 0.5217\n",
      "Epoch 18/100\n",
      "4/4 [==============================] - 6s 1s/step - loss: 169154967670620160.0000 - accuracy: 0.6818 - val_loss: 49603397640257536.0000 - val_accuracy: 0.6087\n",
      "Epoch 19/100\n",
      "4/4 [==============================] - 6s 1s/step - loss: 67774111484477440.0000 - accuracy: 0.6909 - val_loss: 76969696594755584.0000 - val_accuracy: 0.5217\n",
      "Epoch 20/100\n",
      "4/4 [==============================] - 6s 1s/step - loss: 80871803232190464.0000 - accuracy: 0.6182 - val_loss: 35300716310429696.0000 - val_accuracy: 0.5870\n",
      "Epoch 21/100\n",
      "4/4 [==============================] - 6s 1s/step - loss: 48809464345657344.0000 - accuracy: 0.6636 - val_loss: 72016924992602112.0000 - val_accuracy: 0.5435\n",
      "Epoch 22/100\n",
      "4/4 [==============================] - 6s 1s/step - loss: 52480390073417728.0000 - accuracy: 0.6909 - val_loss: 49348663129931776.0000 - val_accuracy: 0.5217\n",
      "Epoch 23/100\n",
      "4/4 [==============================] - 6s 1s/step - loss: 67252874253434880.0000 - accuracy: 0.6455 - val_loss: 58618572649267200.0000 - val_accuracy: 0.6304\n",
      "Epoch 24/100\n",
      "4/4 [==============================] - 6s 1s/step - loss: 144735656231305216.0000 - accuracy: 0.6545 - val_loss: 204057126048366592.0000 - val_accuracy: 0.4783\n",
      "Epoch 25/100\n",
      "4/4 [==============================] - 6s 1s/step - loss: 160661721382387712.0000 - accuracy: 0.5364 - val_loss: 64215164144058368.0000 - val_accuracy: 0.6304\n",
      "Epoch 26/100\n",
      "4/4 [==============================] - 6s 1s/step - loss: 170237385328558080.0000 - accuracy: 0.6000 - val_loss: 58872113158684672.0000 - val_accuracy: 0.5217\n",
      "Epoch 27/100\n",
      "4/4 [==============================] - 6s 1s/step - loss: 77130878127439872.0000 - accuracy: 0.6909 - val_loss: 59748986566737920.0000 - val_accuracy: 0.6304\n",
      "Epoch 28/100\n",
      "4/4 [==============================] - 7s 2s/step - loss: 112148330607280128.0000 - accuracy: 0.6818 - val_loss: 148690702635630592.0000 - val_accuracy: 0.5217\n",
      "Epoch 29/100\n",
      "4/4 [==============================] - 6s 1s/step - loss: 108414509378437120.0000 - accuracy: 0.6182 - val_loss: 31583076370874368.0000 - val_accuracy: 0.6522\n",
      "Epoch 30/100\n",
      "4/4 [==============================] - 6s 1s/step - loss: 121455662176665600.0000 - accuracy: 0.6909 - val_loss: 211234377177235456.0000 - val_accuracy: 0.5217\n",
      "Epoch 31/100\n",
      "4/4 [==============================] - 6s 1s/step - loss: 184958145217429504.0000 - accuracy: 0.6091 - val_loss: 59698726859440128.0000 - val_accuracy: 0.6522\n",
      "Epoch 32/100\n",
      "4/4 [==============================] - 7s 1s/step - loss: 75898265463160832.0000 - accuracy: 0.6909 - val_loss: 142395491760472064.0000 - val_accuracy: 0.4783\n",
      "Epoch 33/100\n",
      "4/4 [==============================] - 6s 1s/step - loss: 109984964170219520.0000 - accuracy: 0.7273 - val_loss: 45830788561764352.0000 - val_accuracy: 0.6522\n",
      "Epoch 34/100\n",
      "4/4 [==============================] - 6s 1s/step - loss: 63974783414435840.0000 - accuracy: 0.6727 - val_loss: 154150379162959872.0000 - val_accuracy: 0.5435\n",
      "Epoch 35/100\n",
      "4/4 [==============================] - 6s 1s/step - loss: 191257212973219840.0000 - accuracy: 0.4818 - val_loss: 16233644939018240.0000 - val_accuracy: 0.7609\n",
      "Epoch 36/100\n",
      "4/4 [==============================] - 6s 1s/step - loss: 127768997813813248.0000 - accuracy: 0.6818 - val_loss: 121235304584577024.0000 - val_accuracy: 0.5435\n",
      "Epoch 37/100\n",
      "4/4 [==============================] - 6s 1s/step - loss: 120020696423202816.0000 - accuracy: 0.7182 - val_loss: 75003159918936064.0000 - val_accuracy: 0.5217\n",
      "Epoch 38/100\n",
      "4/4 [==============================] - 6s 1s/step - loss: 108174532375740416.0000 - accuracy: 0.6818 - val_loss: 64804498081579008.0000 - val_accuracy: 0.6304\n",
      "Epoch 39/100\n",
      "4/4 [==============================] - 6s 1s/step - loss: 100259440225157120.0000 - accuracy: 0.6273 - val_loss: 87372133155471360.0000 - val_accuracy: 0.5652\n",
      "Epoch 40/100\n",
      "4/4 [==============================] - 6s 1s/step - loss: 47335710742544384.0000 - accuracy: 0.7273 - val_loss: 29968939614208000.0000 - val_accuracy: 0.6304\n",
      "Epoch 41/100\n",
      "4/4 [==============================] - 6s 1s/step - loss: 75336406431432704.0000 - accuracy: 0.6364 - val_loss: 29033712632987648.0000 - val_accuracy: 0.6522\n",
      "Epoch 42/100\n",
      "4/4 [==============================] - 6s 1s/step - loss: 71562856755101696.0000 - accuracy: 0.6636 - val_loss: 58834411935760384.0000 - val_accuracy: 0.5870\n",
      "Epoch 43/100\n",
      "4/4 [==============================] - 6s 1s/step - loss: 75537402310950912.0000 - accuracy: 0.7091 - val_loss: 29385670170509312.0000 - val_accuracy: 0.6739\n",
      "Epoch 44/100\n",
      "4/4 [==============================] - 6s 1s/step - loss: 72901391902834688.0000 - accuracy: 0.7091 - val_loss: 40214994268192768.0000 - val_accuracy: 0.5870\n",
      "Epoch 45/100\n",
      "4/4 [==============================] - 6s 1s/step - loss: 42498671329148928.0000 - accuracy: 0.7182 - val_loss: 23320418286829568.0000 - val_accuracy: 0.6304\n",
      "Epoch 46/100\n",
      "4/4 [==============================] - 6s 1s/step - loss: 51477644058820608.0000 - accuracy: 0.6818 - val_loss: 26040077478002688.0000 - val_accuracy: 0.6957\n",
      "Epoch 47/100\n",
      "4/4 [==============================] - 6s 1s/step - loss: 112578566071255040.0000 - accuracy: 0.7000 - val_loss: 68053795459825664.0000 - val_accuracy: 0.5435\n",
      "Epoch 48/100\n",
      "4/4 [==============================] - 6s 1s/step - loss: 57542335449268224.0000 - accuracy: 0.7000 - val_loss: 23563086086537216.0000 - val_accuracy: 0.6957\n",
      "Epoch 49/100\n",
      "4/4 [==============================] - 6s 1s/step - loss: 81293053624582144.0000 - accuracy: 0.7273 - val_loss: 53595711475810304.0000 - val_accuracy: 0.5435\n",
      "Epoch 50/100\n",
      "4/4 [==============================] - 6s 1s/step - loss: 52594850951856128.0000 - accuracy: 0.7182 - val_loss: 38897143682957312.0000 - val_accuracy: 0.5870\n",
      "Epoch 51/100\n",
      "4/4 [==============================] - 6s 1s/step - loss: 60354843243446272.0000 - accuracy: 0.7273 - val_loss: 29937794658861056.0000 - val_accuracy: 0.6087\n",
      "Epoch 52/100\n",
      "4/4 [==============================] - 6s 1s/step - loss: 67780425086402560.0000 - accuracy: 0.7545 - val_loss: 74544199713685504.0000 - val_accuracy: 0.5217\n",
      "Epoch 53/100\n",
      "4/4 [==============================] - 6s 1s/step - loss: 72133468930179072.0000 - accuracy: 0.7182 - val_loss: 20983906685681664.0000 - val_accuracy: 0.6957\n",
      "Epoch 54/100\n",
      "4/4 [==============================] - 6s 1s/step - loss: 39448033368211456.0000 - accuracy: 0.7364 - val_loss: 155442459944419328.0000 - val_accuracy: 0.4783\n",
      "Epoch 55/100\n",
      "4/4 [==============================] - 6s 1s/step - loss: 99614250237952000.0000 - accuracy: 0.6636 - val_loss: 49915066237059072.0000 - val_accuracy: 0.6304\n",
      "Epoch 56/100\n",
      "4/4 [==============================] - 6s 1s/step - loss: 82039106623766528.0000 - accuracy: 0.7000 - val_loss: 94350372679712768.0000 - val_accuracy: 0.5435\n",
      "Epoch 57/100\n",
      "4/4 [==============================] - 6s 1s/step - loss: 93072817477648384.0000 - accuracy: 0.6545 - val_loss: 51629771800444928.0000 - val_accuracy: 0.5870\n",
      "Epoch 58/100\n",
      "4/4 [==============================] - 6s 1s/step - loss: 35271826212913152.0000 - accuracy: 0.7273 - val_loss: 24751761235378176.0000 - val_accuracy: 0.6957\n",
      "Epoch 59/100\n",
      "4/4 [==============================] - 6s 1s/step - loss: 55567908918525952.0000 - accuracy: 0.7273 - val_loss: 85891889856774144.0000 - val_accuracy: 0.5435\n",
      "Epoch 60/100\n",
      "4/4 [==============================] - 6s 1s/step - loss: 54895475953762304.0000 - accuracy: 0.7000 - val_loss: 26311478608920576.0000 - val_accuracy: 0.6957\n",
      "Epoch 61/100\n",
      "4/4 [==============================] - 6s 1s/step - loss: 79897550030635008.0000 - accuracy: 0.6909 - val_loss: 39871714712092672.0000 - val_accuracy: 0.5652\n",
      "Epoch 62/100\n",
      "4/4 [==============================] - 6s 1s/step - loss: 83263893857632256.0000 - accuracy: 0.6818 - val_loss: 149072233170468864.0000 - val_accuracy: 0.4783\n",
      "Epoch 63/100\n",
      "4/4 [==============================] - 6s 1s/step - loss: 213802698900766720.0000 - accuracy: 0.6273 - val_loss: 122718348201951232.0000 - val_accuracy: 0.5435\n",
      "Epoch 64/100\n",
      "4/4 [==============================] - 6s 1s/step - loss: 92323723641618432.0000 - accuracy: 0.7455 - val_loss: 85793543695630336.0000 - val_accuracy: 0.6087\n",
      "Epoch 65/100\n",
      "4/4 [==============================] - 6s 1s/step - loss: 108809612009930752.0000 - accuracy: 0.7182 - val_loss: 199764787272351744.0000 - val_accuracy: 0.5435\n",
      "Epoch 66/100\n",
      "4/4 [==============================] - 6s 1s/step - loss: 92460234882154496.0000 - accuracy: 0.7273 - val_loss: 53427348757807104.0000 - val_accuracy: 0.6739\n",
      "Epoch 67/100\n",
      "4/4 [==============================] - 6s 1s/step - loss: 80176894703566848.0000 - accuracy: 0.7000 - val_loss: 189155479316856832.0000 - val_accuracy: 0.4783\n",
      "Epoch 68/100\n",
      "4/4 [==============================] - 6s 1s/step - loss: 158723832138432512.0000 - accuracy: 0.6091 - val_loss: 33561630365188096.0000 - val_accuracy: 0.6739\n",
      "Epoch 69/100\n",
      "4/4 [==============================] - 6s 1s/step - loss: 58617352878555136.0000 - accuracy: 0.7818 - val_loss: 67651893895102464.0000 - val_accuracy: 0.5000\n",
      "Epoch 70/100\n",
      "4/4 [==============================] - 6s 1s/step - loss: 48815666278432768.0000 - accuracy: 0.7091 - val_loss: 51618278467960832.0000 - val_accuracy: 0.6304\n",
      "Epoch 71/100\n",
      "4/4 [==============================] - 6s 1s/step - loss: 58294852374233088.0000 - accuracy: 0.7545 - val_loss: 79448485430034432.0000 - val_accuracy: 0.5217\n",
      "Epoch 72/100\n",
      "4/4 [==============================] - 6s 1s/step - loss: 101191826085511168.0000 - accuracy: 0.6727 - val_loss: 91495533687865344.0000 - val_accuracy: 0.5652\n",
      "Epoch 73/100\n",
      "4/4 [==============================] - 6s 1s/step - loss: 93737678415069184.0000 - accuracy: 0.6727 - val_loss: 31847751583006720.0000 - val_accuracy: 0.6522\n",
      "Epoch 74/100\n",
      "4/4 [==============================] - 6s 1s/step - loss: 59538249701392384.0000 - accuracy: 0.7273 - val_loss: 68788445320839168.0000 - val_accuracy: 0.6087\n",
      "Epoch 75/100\n",
      "4/4 [==============================] - 6s 1s/step - loss: 43722238792302592.0000 - accuracy: 0.7818 - val_loss: 30480775161839616.0000 - val_accuracy: 0.6522\n",
      "Epoch 76/100\n",
      "4/4 [==============================] - 6s 1s/step - loss: 63430117136793600.0000 - accuracy: 0.7727 - val_loss: 56129720705613824.0000 - val_accuracy: 0.5870\n",
      "Epoch 77/100\n",
      "4/4 [==============================] - 6s 1s/step - loss: 43125148143845376.0000 - accuracy: 0.7273 - val_loss: 40308096274268160.0000 - val_accuracy: 0.5870\n",
      "Epoch 78/100\n",
      "4/4 [==============================] - 6s 1s/step - loss: 33580964160471040.0000 - accuracy: 0.7636 - val_loss: 58886363860172800.0000 - val_accuracy: 0.5652\n",
      "Epoch 79/100\n",
      "4/4 [==============================] - 6s 1s/step - loss: 46546420307591168.0000 - accuracy: 0.7727 - val_loss: 51541389963427840.0000 - val_accuracy: 0.5217\n",
      "Epoch 80/100\n",
      "4/4 [==============================] - 6s 1s/step - loss: 43693514051026944.0000 - accuracy: 0.7091 - val_loss: 89346392182489088.0000 - val_accuracy: 0.5870\n",
      "Epoch 81/100\n",
      "4/4 [==============================] - 6s 1s/step - loss: 65064171804295168.0000 - accuracy: 0.7909 - val_loss: 33370828590546944.0000 - val_accuracy: 0.6304\n",
      "Epoch 82/100\n",
      "4/4 [==============================] - 6s 1s/step - loss: 42607072008732672.0000 - accuracy: 0.7364 - val_loss: 50713754060455936.0000 - val_accuracy: 0.6304\n",
      "Epoch 83/100\n",
      "4/4 [==============================] - 6s 1s/step - loss: 41925099921604608.0000 - accuracy: 0.7273 - val_loss: 22748833301659648.0000 - val_accuracy: 0.7174\n",
      "Epoch 84/100\n",
      "4/4 [==============================] - 6s 1s/step - loss: 78504022121644032.0000 - accuracy: 0.6818 - val_loss: 23828568752521216.0000 - val_accuracy: 0.6957\n",
      "Epoch 85/100\n",
      "4/4 [==============================] - 6s 1s/step - loss: 88764355394404352.0000 - accuracy: 0.6727 - val_loss: 112589707216420864.0000 - val_accuracy: 0.4783\n",
      "Epoch 86/100\n",
      "4/4 [==============================] - 6s 1s/step - loss: 64776778362650624.0000 - accuracy: 0.7818 - val_loss: 33420611556474880.0000 - val_accuracy: 0.7391\n",
      "Epoch 87/100\n",
      "4/4 [==============================] - 6s 1s/step - loss: 129118828725534720.0000 - accuracy: 0.6818 - val_loss: 82927975875477504.0000 - val_accuracy: 0.5870\n",
      "Epoch 88/100\n",
      "4/4 [==============================] - 6s 1s/step - loss: 118785867555799040.0000 - accuracy: 0.7364 - val_loss: 96276588202557440.0000 - val_accuracy: 0.5870\n",
      "Epoch 89/100\n",
      "4/4 [==============================] - 6s 1s/step - loss: 139139038966710272.0000 - accuracy: 0.6455 - val_loss: 104612844846186496.0000 - val_accuracy: 0.5870\n",
      "Epoch 90/100\n",
      "4/4 [==============================] - 6s 1s/step - loss: 40722174071275520.0000 - accuracy: 0.7545 - val_loss: 79257599903531008.0000 - val_accuracy: 0.5652\n",
      "Epoch 91/100\n",
      "4/4 [==============================] - 6s 1s/step - loss: 63156278611935232.0000 - accuracy: 0.7273 - val_loss: 35888527682043904.0000 - val_accuracy: 0.6304\n",
      "Epoch 92/100\n",
      "4/4 [==============================] - 6s 1s/step - loss: 73306725146427392.0000 - accuracy: 0.7636 - val_loss: 94081997353254912.0000 - val_accuracy: 0.6087\n",
      "Epoch 93/100\n",
      "4/4 [==============================] - 6s 1s/step - loss: 93733486526988288.0000 - accuracy: 0.6909 - val_loss: 46475299944136704.0000 - val_accuracy: 0.6087\n",
      "Epoch 94/100\n",
      "4/4 [==============================] - 6s 1s/step - loss: 59277540891557888.0000 - accuracy: 0.7545 - val_loss: 29843679040503808.0000 - val_accuracy: 0.7391\n",
      "Epoch 95/100\n",
      "4/4 [==============================] - 6s 1s/step - loss: 68995312420651008.0000 - accuracy: 0.6818 - val_loss: 82164554028548096.0000 - val_accuracy: 0.5870\n",
      "Epoch 96/100\n",
      "4/4 [==============================] - 6s 1s/step - loss: 70929413503451136.0000 - accuracy: 0.7273 - val_loss: 73608919045373952.0000 - val_accuracy: 0.5870\n",
      "Epoch 97/100\n",
      "4/4 [==============================] - 6s 1s/step - loss: 87481139425443840.0000 - accuracy: 0.7455 - val_loss: 46891215987146752.0000 - val_accuracy: 0.6522\n",
      "Epoch 98/100\n",
      "4/4 [==============================] - 6s 1s/step - loss: 98169397469773824.0000 - accuracy: 0.6818 - val_loss: 141264592511696896.0000 - val_accuracy: 0.5435\n",
      "Epoch 99/100\n",
      "4/4 [==============================] - 6s 1s/step - loss: 156942777920258048.0000 - accuracy: 0.6727 - val_loss: 67999249375166464.0000 - val_accuracy: 0.5435\n",
      "Epoch 100/100\n",
      "4/4 [==============================] - 6s 1s/step - loss: 65531816433418240.0000 - accuracy: 0.7545 - val_loss: 37297904020357120.0000 - val_accuracy: 0.6522\n"
     ]
    }
   ],
   "source": [
    "hist = model.fit(\n",
    "    train_dataset,\n",
    "    epochs=100,\n",
    "    validation_data=val_dataset\n",
    ").history"
   ]
  },
  {
   "cell_type": "markdown",
   "id": "54512c29-2114-4c57-8cb9-b7c81195c692",
   "metadata": {},
   "source": [
    "### Cleanup"
   ]
  },
  {
   "cell_type": "code",
   "execution_count": null,
   "id": "fddfe8e4-754f-4030-82fc-78640ab4c6dd",
   "metadata": {},
   "outputs": [],
   "source": [
    "temp_dir.cleanup()"
   ]
  },
  {
   "cell_type": "code",
   "execution_count": null,
   "id": "db1ebaa7-ef3d-46c7-90fe-185cd1b07d14",
   "metadata": {},
   "outputs": [],
   "source": []
  }
 ],
 "metadata": {
  "kernelspec": {
   "display_name": "Python 3 (ipykernel)",
   "language": "python",
   "name": "python3"
  },
  "language_info": {
   "codemirror_mode": {
    "name": "ipython",
    "version": 3
   },
   "file_extension": ".py",
   "mimetype": "text/x-python",
   "name": "python",
   "nbconvert_exporter": "python",
   "pygments_lexer": "ipython3",
   "version": "3.8.10"
  }
 },
 "nbformat": 4,
 "nbformat_minor": 5
}
